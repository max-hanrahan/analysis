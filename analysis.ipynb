{
 "cells": [
  {
   "cell_type": "markdown",
   "metadata": {},
   "source": [
    "# Density profile $\\rho_x(x)$ and surface tension $\\gamma_x(x)$"
   ]
  },
  {
   "cell_type": "markdown",
   "metadata": {},
   "source": [
    "## The goal of this notebook is to analyze a number of configs from a trajectory file and report the density along the $x$-axis. \n",
    "\n",
    "For a system that is separated, we should see something like two Heaviside step functions, whereas a mixed system should have two flat, equal, and overlapping densities in that direction.\n",
    "\n",
    "Pseudocode for this would be something like the following:"
   ]
  },
  {
   "cell_type": "markdown",
   "metadata": {},
   "source": [
    "```bash\n",
    "Loop configs:\n",
    "    loop over particles:\n",
    "        count[pos[i][x] / dx]++;\n",
    "```\n",
    "and then divide by `configs*dx*Ly*Lz`.\n",
    "\n",
    "My approach:\n",
    "- [ ] Read in lammps trajectories as pandas DataFrames\n",
    "- [ ] Make a histogram of $x$-positions for the last $n$ trajectories in a file\n",
    "- [ ] Rescale the counts appropriately and report with and without type separation"
   ]
  },
  {
   "cell_type": "code",
   "execution_count": null,
   "metadata": {},
   "outputs": [],
   "source": [
    "import numpy as np\n",
    "import pandas as pd\n",
    "import matplotlib.pyplot as plt\n",
    "import glob"
   ]
  },
  {
   "cell_type": "code",
   "execution_count": null,
   "metadata": {},
   "outputs": [],
   "source": [
    "# density profile by type\n",
    "\n",
    "pattern = '../equil_traj.dump'\n",
    "matching_files = glob.glob(pattern)\n",
    "filename = matching_files[0]\n",
    "if len(matching_files) >1:\n",
    "    print(f\"Warning: multiple trajectory files found. \\nUsing {filename}\")\n",
    "    \n",
    "num_atoms = 7600\n",
    "# first, get the boxsize in case we need it:\n",
    "box = pd.read_csv(filename, nrows = 3, skiprows = 5, header =None, delim_whitespace = True)\n",
    "# also, get the number of configs:\n",
    "with open(filename, 'r') as file:\n",
    "    line_count = file.read().count('\\n') + 1\n",
    "total_configs = line_count // (num_atoms + 9)\n",
    "names = [\"id\", \"mol\", \"type\", \"x\", \"y\", \"z\"]"
   ]
  },
  {
   "cell_type": "code",
   "execution_count": null,
   "metadata": {},
   "outputs": [],
   "source": [
    "num_configs = total_configs"
   ]
  },
  {
   "cell_type": "code",
   "execution_count": null,
   "metadata": {},
   "outputs": [],
   "source": [
    "# now generate the list of lines to skip:\n",
    "first_skips = [(num_atoms + 9)*i for i in range(num_configs)]\n",
    "fs = np.array(first_skips)\n",
    "skip_arr = np.concatenate([fs + i for i in range(9)])\n",
    "\n",
    "equil_df = pd.read_csv(filename, delim_whitespace=True, nrows = num_atoms*num_configs, \n",
    "                        skiprows= skip_arr, header = None, names= names, index_col=None)\n",
    "# for equilibration's sake, chop off the first half of the data:\n",
    "equil_df = equil_df.iloc[len(equil_df)//2:] "
   ]
  },
  {
   "cell_type": "code",
   "execution_count": null,
   "metadata": {},
   "outputs": [],
   "source": [
    "equil_df"
   ]
  },
  {
   "cell_type": "code",
   "execution_count": null,
   "metadata": {},
   "outputs": [],
   "source": [
    "# density profile:\n",
    "Lx = box[1][0] - box[0][0]\n",
    "Ly = box[1][1] - box[0][1]\n",
    "Lz = box[1][2] - box[0][2]\n",
    "\n",
    "nbins = 1000\n",
    "\n",
    "dx = Lx/nbins\n",
    "counts, bins, patches = plt.hist(equil_df['x'], bins=nbins, color='purple', histtype='step')\n",
    "counts_1, bins_1, patches_1 = plt.hist(equil_df[equil_df.type == 1]['x'], bins=nbins, color='r', histtype='step')\n",
    "counts_2, bins_2, patches_2 = plt.hist(equil_df[equil_df.type == 2]['x'], bins=nbins, color='b', histtype='step')\n",
    "counts/= (num_configs* Ly*Lz * dx/2)\n",
    "counts_1/= (num_configs* Ly*Lz * dx/2)\n",
    "counts_2/= (num_configs* Ly*Lz * dx/2)\n",
    "plt.title(\"Density Histograms (un-normalized)\")\n",
    "plt.xlabel(r\"$x$\")\n",
    "plt.ylabel(\"Count\")\n",
    "plt.show()\n",
    "plt.step(bins[:-1], counts, where='mid', color='purple', linestyle='-', linewidth=2)\n",
    "plt.xlabel(\"z\")\n",
    "plt.ylabel(\"Counts/(n*Ly*Lz*dx/2)\")\n",
    "plt.title(r\"$\\rho_z(z)$\")\n",
    "plt.show()"
   ]
  },
  {
   "cell_type": "code",
   "execution_count": null,
   "metadata": {},
   "outputs": [],
   "source": [
    "fig, axs = plt.subplots(2, 1,  figsize=(6,8), sharex = True)  # 1 row, 2 columns\n",
    "plt.suptitle(r\"Density Profile $\\rho_z(z)$\")\n",
    "# Plot for the first subplot\n",
    "axs[0].step(bins[:-1], counts_1, where='mid', color='r', linestyle='-', linewidth=2)\n",
    "axs[0].set_title('Type 1')\n",
    "axs[0].set_ylabel('Counts/(n*Ly*Lz*dx/2)')\n",
    "axs[0].set_xlabel(r\"$x$\")\n",
    "\n",
    "# Plot for the second subplot\n",
    "axs[1].step(bins[:-1], counts_2, where='mid', color='b', linestyle='-', linewidth=2)\n",
    "axs[1].set_title('Type 2')\n",
    "axs[1].set_ylabel('Counts/(n*Ly*Lz*dx/2)')\n",
    "axs[1].set_xlabel(r\"$x$\")\n",
    "plt.show()"
   ]
  },
  {
   "cell_type": "markdown",
   "metadata": {},
   "source": [
    "## Radial distribution function $g(r)$:"
   ]
  },
  {
   "cell_type": "code",
   "execution_count": null,
   "metadata": {},
   "outputs": [],
   "source": [
    "# import freud\n",
    "# box_data = box.to_numpy()"
   ]
  },
  {
   "cell_type": "code",
   "execution_count": null,
   "metadata": {},
   "outputs": [],
   "source": [
    "# box = freud.box.Box.from_box(box_data[:, 1] - box_data[:, 0])\n",
    "# data = equil_df.to_numpy()\n",
    "\n",
    "# data[..., 3:] -= box.L / 2\n",
    "\n",
    "\n",
    "# data_1 = equil_df[equil_df.type == 1].to_numpy()\n",
    "# data_2 = equil_df[equil_df.type == 2].to_numpy()\n",
    "\n",
    "# data_xyz = data[...,3:].reshape(-1, num_atoms, 3)\n",
    "# data_xyz_1 = data_1[...,3:].reshape(-1, num_atoms//2, 3)\n",
    "# data_xyz_2 = data_2[...,3:].reshape(-1, num_atoms//2, 3)"
   ]
  },
  {
   "cell_type": "code",
   "execution_count": null,
   "metadata": {},
   "outputs": [],
   "source": [
    "\n",
    "# rdf = freud.density.RDF(bins=100, r_max=4, r_min=0.0)\n",
    "# rdf1 = freud.density.RDF(bins=100, r_max=4, r_min=0.0)\n",
    "# rdf2 = freud.density.RDF(bins=100, r_max=4, r_min=0.0)\n",
    "\n",
    "# for frame in data_xyz:\n",
    "#     rdf.compute(system=(box, frame), reset = False)\n",
    "# # for frame in data_xyz_1:\n",
    "#     # rdf1.compute(system=(box, frame), reset=False)\n",
    "# # for frame in data_xyz_2:\n",
    "#     # rdf2.compute(system=(box, frame), reset=False)\n",
    "\n",
    "# # Plot the RDF\n",
    "# plt.plot(rdf.bin_centers, rdf.rdf, label = 'all', c = 'purple')\n",
    "# # plt.plot(rdf1.bin_centers, rdf1.rdf, label = 'type 1', c = 'r')\n",
    "# # plt.plot(rdf2.bin_centers, rdf2.rdf, label = 'type 2', c = 'b')\n",
    "# plt.legend()\n",
    "# plt.title(\"Radial Distribution Function\")\n",
    "# plt.xlabel(\"$r$\")\n",
    "# plt.ylabel(\"$g(r)$\")\n",
    "# plt.show()\n"
   ]
  },
  {
   "cell_type": "markdown",
   "metadata": {},
   "source": [
    "## Plot the surface tension:\n",
    "\n",
    "Using the exact same method as above, we can get the profile $\\gamma(x)$ from the differences between pressure normal to and parallel to the interface:\n",
    "\n",
    "$$\\gamma(x) = \\int\\limits_{-\\infty}^\\infty\\left( P_{xx} - \\frac{1}{2} \\left(P_{yy} + P_{zz}\\right)\\right) dx$$\n",
    "\n",
    "We just have to read in a different dataset, with each particle's stress components and x-position from each dump. "
   ]
  },
  {
   "cell_type": "code",
   "execution_count": null,
   "metadata": {},
   "outputs": [],
   "source": [
    "pattern = '../stress.dump'\n",
    "matching_files = glob.glob(pattern)\n",
    "filename = matching_files[0]\n",
    "if len(matching_files) >1:\n",
    "    print(f\"Warning: multiple trajectory files found. \\nUsing {filename}\")\n",
    "    \n",
    "num_atoms = 7600\n",
    "# first, get the boxsize in case we need it:\n",
    "box = pd.read_csv(filename, nrows = 3, skiprows = 5, header =None, delim_whitespace = True)\n",
    "# also, get the number of configs:\n",
    "with open(filename, 'r') as file:\n",
    "    line_count = file.read().count('\\n') + 1\n",
    "total_configs = line_count // (num_atoms + 9)\n"
   ]
  },
  {
   "cell_type": "code",
   "execution_count": null,
   "metadata": {},
   "outputs": [],
   "source": [
    "num_configs = total_configs"
   ]
  },
  {
   "cell_type": "code",
   "execution_count": null,
   "metadata": {},
   "outputs": [],
   "source": [
    "names = ['x', 'y', 'z', 'xx', 'yy', 'zz', 'xy', 'xz', 'yz']\n",
    "\n",
    "# now generate the list of lines to skip:\n",
    "first_skips = [(num_atoms + 9)*i for i in range(num_configs)]\n",
    "fs = np.array(first_skips)\n",
    "skip_arr = np.concatenate([fs + i for i in range(9)])"
   ]
  },
  {
   "cell_type": "code",
   "execution_count": null,
   "metadata": {},
   "outputs": [],
   "source": [
    "stress_df = pd.read_csv(filename, delim_whitespace=True, nrows = num_atoms*num_configs, \n",
    "                        skiprows= skip_arr, header = None, names= names, index_col=None)\n",
    "\n",
    "# these are pressures, not stresses, so negate them:\n",
    "components = stress_df.columns.difference(['x'])\n",
    "stress_df[components] *= -1\n",
    "\n",
    "# for equilibration's sake, chop off the first half of the data:\n",
    "stress_df = stress_df.iloc[len(stress_df)//2:] \n",
    "stress_df = stress_df.sort_values(by = 'x')\n",
    "\n",
    "surf_ten = stress_df.xx - 0.5 * (stress_df.yy + stress_df.zz)"
   ]
  },
  {
   "cell_type": "code",
   "execution_count": null,
   "metadata": {},
   "outputs": [],
   "source": [
    "# # this is useful if we wanna shift the boxsize, but still testing this:\n",
    "\n",
    "# # get the boxsize in the x-direction:\n",
    "# box_x = box[1][0] - box[0][0]\n",
    "\n",
    "# stress_df = stress_df.sort_values(by = 'x')\n",
    "# stress_df.x +=box_x/2 # make it all positive\n",
    "# stress_df.x = (stress_df.x + box_x/4).mod(box_x) # now shift it over a quarter box"
   ]
  },
  {
   "cell_type": "code",
   "execution_count": null,
   "metadata": {},
   "outputs": [],
   "source": [
    "# this is a the range of surface tension of all particles as a function of x:\n",
    "# this is averaged over all <config> configurations\n",
    "plt.scatter(stress_df.x, surf_ten, s = 0.1)\n",
    "plt.title(f'Distribution of Pressure Differences over {num_configs} configs')\n",
    "plt.xlabel(r'$x$')\n",
    "plt.ylabel(r'$P_{xx} - \\frac{1}{2} \\left(P_{yy} + P_{zz}\\right)$')\n",
    "plt.grid(True)\n",
    "plt.show()"
   ]
  },
  {
   "cell_type": "code",
   "execution_count": null,
   "metadata": {
    "scrolled": true
   },
   "outputs": [],
   "source": [
    "# surface tension profile\n",
    "from scipy import integrate\n",
    "y_int = integrate.cumulative_trapezoid(surf_ten, stress_df.x, initial=0)\n",
    "\n",
    "plt.plot(stress_df.x, y_int, c = 'r', linewidth = .5)\n",
    "plt.xlabel(r'$x$')\n",
    "plt.ylabel(r'$\\gamma(x)$')\n",
    "plt.title(r'$\\int\\left[ P_{xx} - \\frac{1}{2} \\left(P_{yy} + P_{zz}\\right)\\right] dx$')\n",
    "plt.grid(True)\n",
    "plt.show()\n"
   ]
  },
  {
   "cell_type": "code",
   "execution_count": null,
   "metadata": {},
   "outputs": [],
   "source": [
    "# Assuming stress_df.x contains the x-values and surf_ten contains the y-values\n",
    "# Calculate the bin edges\n",
    "nbins = 20\n",
    "bin_edges = np.linspace(min(stress_df.x), max(stress_df.x), num=nbins+1) # 20 bins\n",
    "# Find the indices of the bins for each data point\n",
    "bin_indices = np.digitize(stress_df.x, bin_edges)\n",
    "# Calculate the mean y-value for each bin\n",
    "bin_means = [surf_ten[bin_indices == i].mean() for i in range(1, len(bin_edges))]\n",
    "# Calculate the x-values for the center of each bin\n",
    "bin_centers = (bin_edges[1:] + bin_edges[:-1]) / 2\n",
    "\n",
    "# Plot the binned data\n",
    "plt.plot(bin_centers, bin_means, marker='o', linestyle='-')\n",
    "plt.xlabel(r'$x$')\n",
    "plt.ylabel(r'$P_{xx} - \\frac{1}{2} \\left(P_{yy} + P_{zz}\\right)$')\n",
    "plt.title(f'Pressure Difference (averaged over {nbins} bins, {num_configs} configs)')\n",
    "plt.grid(True)\n",
    "plt.show()\n"
   ]
  },
  {
   "cell_type": "code",
   "execution_count": null,
   "metadata": {},
   "outputs": [],
   "source": [
    "x = bin_centers\n",
    "y = bin_means\n",
    "# Perform numerical integration using the trapezoidal rule\n",
    "y_int = integrate.cumulative_trapezoid(y, x, initial=0)\n",
    "# Plot the scatter plot\n",
    "plt.plot(x, y_int, c = 'r', linewidth = 1.5)\n",
    "# plt.scatter(x, y, c = 'b', s = 2)\n",
    "plt.xlabel(r'$x$')\n",
    "plt.ylabel(r'$\\gamma(x)$')\n",
    "plt.title(r'$\\int\\left[ P_{xx} - \\frac{1}{2} \\left(P_{yy} + P_{zz}\\right)\\right] dx$')\n",
    "plt.grid(True)\n",
    "plt.show()\n"
   ]
  },
  {
   "cell_type": "code",
   "execution_count": null,
   "metadata": {},
   "outputs": [],
   "source": []
  }
 ],
 "metadata": {
  "kernelspec": {
   "display_name": "Python 3 (ipykernel)",
   "language": "python",
   "name": "python3"
  },
  "language_info": {
   "codemirror_mode": {
    "name": "ipython",
    "version": 3
   },
   "file_extension": ".py",
   "mimetype": "text/x-python",
   "name": "python",
   "nbconvert_exporter": "python",
   "pygments_lexer": "ipython3",
   "version": "3.10.9"
  }
 },
 "nbformat": 4,
 "nbformat_minor": 2
}
